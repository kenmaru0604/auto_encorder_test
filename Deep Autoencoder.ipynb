{
 "cells": [
  {
   "cell_type": "code",
   "execution_count": 1,
   "metadata": {},
   "outputs": [
    {
     "name": "stderr",
     "output_type": "stream",
     "text": [
      "C:\\ProgramData\\Anaconda3\\lib\\site-packages\\h5py\\__init__.py:36: FutureWarning: Conversion of the second argument of issubdtype from `float` to `np.floating` is deprecated. In future, it will be treated as `np.float64 == np.dtype(float).type`.\n",
      "  from ._conv import register_converters as _register_converters\n",
      "Using TensorFlow backend.\n"
     ]
    }
   ],
   "source": [
    "from keras.layers import Input, Dense\n",
    "from keras.models import Model\n",
    "from keras.datasets import mnist\n",
    "import numpy as np\n",
    "from keras import regularizers"
   ]
  },
  {
   "cell_type": "code",
   "execution_count": 5,
   "metadata": {},
   "outputs": [
    {
     "name": "stderr",
     "output_type": "stream",
     "text": [
      "C:\\ProgramData\\Anaconda3\\lib\\site-packages\\ipykernel_launcher.py:12: UserWarning: Update your `Model` call to the Keras 2 API: `Model(inputs=Tensor(\"in..., outputs=Tensor(\"de...)`\n",
      "  if sys.path[0] == '':\n"
     ]
    }
   ],
   "source": [
    "encoding_dim = 32\n",
    "input_img = Input(shape=(784,))\n",
    "\n",
    "encoded = Dense(128, activation='relu')(input_img)\n",
    "encoded = Dense(64, activation='relu')(encoded)\n",
    "encoded = Dense(32, activation='relu')(encoded)\n",
    "\n",
    "decoded = Dense(64, activation='relu')(encoded)\n",
    "decoded = Dense(128, activation='relu')(decoded)\n",
    "decoded = Dense(784, activation='sigmoid')(decoded)\n",
    "\n",
    "autoencoder = Model(input=input_img, output=decoded)\n",
    "autoencoder.compile(optimizer='adam', loss='binary_crossentropy')"
   ]
  },
  {
   "cell_type": "code",
   "execution_count": 8,
   "metadata": {},
   "outputs": [
    {
     "name": "stdout",
     "output_type": "stream",
     "text": [
      "_________________________________________________________________\n",
      "Layer (type)                 Output Shape              Param #   \n",
      "=================================================================\n",
      "input_3 (InputLayer)         (None, 784)               0         \n",
      "_________________________________________________________________\n",
      "dense_13 (Dense)             (None, 128)               100480    \n",
      "_________________________________________________________________\n",
      "dense_14 (Dense)             (None, 64)                8256      \n",
      "_________________________________________________________________\n",
      "dense_15 (Dense)             (None, 32)                2080      \n",
      "_________________________________________________________________\n",
      "dense_16 (Dense)             (None, 64)                2112      \n",
      "_________________________________________________________________\n",
      "dense_17 (Dense)             (None, 128)               8320      \n",
      "_________________________________________________________________\n",
      "dense_18 (Dense)             (None, 784)               101136    \n",
      "=================================================================\n",
      "Total params: 222,384\n",
      "Trainable params: 222,384\n",
      "Non-trainable params: 0\n",
      "_________________________________________________________________\n"
     ]
    }
   ],
   "source": [
    "autoencoder.summary()"
   ]
  },
  {
   "cell_type": "code",
   "execution_count": 9,
   "metadata": {},
   "outputs": [
    {
     "name": "stdout",
     "output_type": "stream",
     "text": [
      "(60000, 28, 28)\n",
      "(10000, 28, 28)\n",
      "(60000, 784)\n",
      "(10000, 784)\n"
     ]
    }
   ],
   "source": [
    "from keras.datasets import mnist\n",
    "import numpy as np\n",
    "\n",
    "(x_train, _), (x_test, _) = mnist.load_data()\n",
    "x_train = x_train.astype('float32') / 255.\n",
    "x_test = x_test.astype('float32') / 255.\n",
    "print(x_train.shape)\n",
    "print(x_test.shape)\n",
    "\n",
    "x_train = x_train.reshape((len(x_train), np.prod(x_train.shape[1:])))\n",
    "x_test = x_test.reshape((len(x_test), np.prod(x_test.shape[1:])))\n",
    "print(x_train.shape)\n",
    "print(x_test.shape)"
   ]
  },
  {
   "cell_type": "code",
   "execution_count": 10,
   "metadata": {},
   "outputs": [
    {
     "name": "stderr",
     "output_type": "stream",
     "text": [
      "C:\\ProgramData\\Anaconda3\\lib\\site-packages\\ipykernel_launcher.py:5: UserWarning: The `nb_epoch` argument in `fit` has been renamed `epochs`.\n",
      "  \"\"\"\n"
     ]
    },
    {
     "name": "stdout",
     "output_type": "stream",
     "text": [
      "Train on 60000 samples, validate on 10000 samples\n",
      "Epoch 1/100\n",
      "60000/60000 [==============================] - 4s 74us/step - loss: 0.2503 - val_loss: 0.1713\n",
      "Epoch 2/100\n",
      "60000/60000 [==============================] - 3s 51us/step - loss: 0.1542 - val_loss: 0.1390\n",
      "Epoch 3/100\n",
      "60000/60000 [==============================] - 3s 57us/step - loss: 0.1330 - val_loss: 0.1244\n",
      "Epoch 4/100\n",
      "60000/60000 [==============================] - 3s 45us/step - loss: 0.1215 - val_loss: 0.1166\n",
      "Epoch 5/100\n",
      "60000/60000 [==============================] - 3s 57us/step - loss: 0.1157 - val_loss: 0.1121\n",
      "Epoch 6/100\n",
      "60000/60000 [==============================] - 4s 61us/step - loss: 0.1122 - val_loss: 0.1092\n",
      "Epoch 7/100\n",
      "60000/60000 [==============================] - 4s 63us/step - loss: 0.1093 - val_loss: 0.1068\n",
      "Epoch 8/100\n",
      "60000/60000 [==============================] - 4s 58us/step - loss: 0.1072 - val_loss: 0.1051\n",
      "Epoch 9/100\n",
      "60000/60000 [==============================] - 3s 55us/step - loss: 0.1051 - val_loss: 0.1028\n",
      "Epoch 10/100\n",
      "60000/60000 [==============================] - 4s 62us/step - loss: 0.1032 - val_loss: 0.1012\n",
      "Epoch 11/100\n",
      "60000/60000 [==============================] - 3s 52us/step - loss: 0.1014 - val_loss: 0.1000\n",
      "Epoch 12/100\n",
      "60000/60000 [==============================] - 3s 51us/step - loss: 0.0998 - val_loss: 0.0978\n",
      "Epoch 13/100\n",
      "60000/60000 [==============================] - 3s 51us/step - loss: 0.0983 - val_loss: 0.0966\n",
      "Epoch 14/100\n",
      "60000/60000 [==============================] - 3s 49us/step - loss: 0.0972 - val_loss: 0.0958\n",
      "Epoch 15/100\n",
      "60000/60000 [==============================] - 3s 52us/step - loss: 0.0963 - val_loss: 0.0951\n",
      "Epoch 16/100\n",
      "60000/60000 [==============================] - 3s 49us/step - loss: 0.0954 - val_loss: 0.0941\n",
      "Epoch 17/100\n",
      "60000/60000 [==============================] - 3s 51us/step - loss: 0.0947 - val_loss: 0.0934\n",
      "Epoch 18/100\n",
      "60000/60000 [==============================] - 3s 48us/step - loss: 0.0940 - val_loss: 0.0925\n",
      "Epoch 19/100\n",
      "60000/60000 [==============================] - 3s 51us/step - loss: 0.0932 - val_loss: 0.0920\n",
      "Epoch 20/100\n",
      "60000/60000 [==============================] - 3s 48us/step - loss: 0.0926 - val_loss: 0.0915\n",
      "Epoch 21/100\n",
      "60000/60000 [==============================] - 3s 52us/step - loss: 0.0920 - val_loss: 0.0912\n",
      "Epoch 22/100\n",
      "60000/60000 [==============================] - 3s 49us/step - loss: 0.0916 - val_loss: 0.0904\n",
      "Epoch 23/100\n",
      "60000/60000 [==============================] - 3s 52us/step - loss: 0.0911 - val_loss: 0.0900\n",
      "Epoch 24/100\n",
      "60000/60000 [==============================] - 3s 49us/step - loss: 0.0907 - val_loss: 0.0895\n",
      "Epoch 25/100\n",
      "60000/60000 [==============================] - 3s 52us/step - loss: 0.0903 - val_loss: 0.0892\n",
      "Epoch 26/100\n",
      "60000/60000 [==============================] - 3s 49us/step - loss: 0.0899 - val_loss: 0.0890\n",
      "Epoch 27/100\n",
      "60000/60000 [==============================] - 3s 53us/step - loss: 0.0896 - val_loss: 0.0889\n",
      "Epoch 28/100\n",
      "60000/60000 [==============================] - 3s 49us/step - loss: 0.0893 - val_loss: 0.0884\n",
      "Epoch 29/100\n",
      "60000/60000 [==============================] - 3s 55us/step - loss: 0.0890 - val_loss: 0.0881\n",
      "Epoch 30/100\n",
      "60000/60000 [==============================] - 3s 53us/step - loss: 0.0887 - val_loss: 0.0879\n",
      "Epoch 31/100\n",
      "60000/60000 [==============================] - 3s 51us/step - loss: 0.0884 - val_loss: 0.0879\n",
      "Epoch 32/100\n",
      "60000/60000 [==============================] - 3s 52us/step - loss: 0.0881 - val_loss: 0.0873\n",
      "Epoch 33/100\n",
      "60000/60000 [==============================] - 3s 49us/step - loss: 0.0880 - val_loss: 0.0870\n",
      "Epoch 34/100\n",
      "60000/60000 [==============================] - 3s 52us/step - loss: 0.0877 - val_loss: 0.0871\n",
      "Epoch 35/100\n",
      "60000/60000 [==============================] - 3s 49us/step - loss: 0.0874 - val_loss: 0.0870\n",
      "Epoch 36/100\n",
      "60000/60000 [==============================] - 3s 53us/step - loss: 0.0872 - val_loss: 0.0867\n",
      "Epoch 37/100\n",
      "60000/60000 [==============================] - 3s 51us/step - loss: 0.0870 - val_loss: 0.0863\n",
      "Epoch 38/100\n",
      "60000/60000 [==============================] - 3s 56us/step - loss: 0.0868 - val_loss: 0.0863\n",
      "Epoch 39/100\n",
      "60000/60000 [==============================] - 3s 54us/step - loss: 0.0867 - val_loss: 0.0862\n",
      "Epoch 40/100\n",
      "60000/60000 [==============================] - 3s 51us/step - loss: 0.0865 - val_loss: 0.0858\n",
      "Epoch 41/100\n",
      "60000/60000 [==============================] - 3s 50us/step - loss: 0.0863 - val_loss: 0.0857\n",
      "Epoch 42/100\n",
      "60000/60000 [==============================] - 3s 58us/step - loss: 0.0861 - val_loss: 0.0854\n",
      "Epoch 43/100\n",
      "60000/60000 [==============================] - 3s 55us/step - loss: 0.0859 - val_loss: 0.0853\n",
      "Epoch 44/100\n",
      "60000/60000 [==============================] - 3s 50us/step - loss: 0.0857 - val_loss: 0.0850\n",
      "Epoch 45/100\n",
      "60000/60000 [==============================] - 4s 62us/step - loss: 0.0855 - val_loss: 0.0850\n",
      "Epoch 46/100\n",
      "60000/60000 [==============================] - 4s 61us/step - loss: 0.0852 - val_loss: 0.0848\n",
      "Epoch 47/100\n",
      "60000/60000 [==============================] - 3s 56us/step - loss: 0.0851 - val_loss: 0.0844\n",
      "Epoch 48/100\n",
      "60000/60000 [==============================] - 3s 49us/step - loss: 0.0849 - val_loss: 0.0844\n",
      "Epoch 49/100\n",
      "60000/60000 [==============================] - 4s 59us/step - loss: 0.0848 - val_loss: 0.0840\n",
      "Epoch 50/100\n",
      "60000/60000 [==============================] - 3s 51us/step - loss: 0.0846 - val_loss: 0.0842\n",
      "Epoch 51/100\n",
      "60000/60000 [==============================] - 3s 45us/step - loss: 0.0845 - val_loss: 0.0839\n",
      "Epoch 52/100\n",
      "60000/60000 [==============================] - 3s 50us/step - loss: 0.0844 - val_loss: 0.0838\n",
      "Epoch 53/100\n",
      "60000/60000 [==============================] - 3s 49us/step - loss: 0.0843 - val_loss: 0.0837\n",
      "Epoch 54/100\n",
      "60000/60000 [==============================] - 3s 52us/step - loss: 0.0842 - val_loss: 0.0838\n",
      "Epoch 55/100\n",
      "60000/60000 [==============================] - 3s 48us/step - loss: 0.0841 - val_loss: 0.0838\n",
      "Epoch 56/100\n",
      "60000/60000 [==============================] - 3s 54us/step - loss: 0.0840 - val_loss: 0.0834\n",
      "Epoch 57/100\n",
      "60000/60000 [==============================] - 3s 50us/step - loss: 0.0839 - val_loss: 0.0837\n",
      "Epoch 58/100\n",
      "60000/60000 [==============================] - 3s 58us/step - loss: 0.0838 - val_loss: 0.0835\n",
      "Epoch 59/100\n",
      "60000/60000 [==============================] - 3s 49us/step - loss: 0.0838 - val_loss: 0.0833\n",
      "Epoch 60/100\n",
      "60000/60000 [==============================] - 3s 53us/step - loss: 0.0836 - val_loss: 0.0832\n",
      "Epoch 61/100\n",
      "60000/60000 [==============================] - 3s 50us/step - loss: 0.0836 - val_loss: 0.0831\n",
      "Epoch 62/100\n",
      "60000/60000 [==============================] - 3s 52us/step - loss: 0.0835 - val_loss: 0.0830\n",
      "Epoch 63/100\n",
      "60000/60000 [==============================] - 3s 49us/step - loss: 0.0835 - val_loss: 0.0830\n",
      "Epoch 64/100\n",
      "60000/60000 [==============================] - 3s 55us/step - loss: 0.0834 - val_loss: 0.0829\n",
      "Epoch 65/100\n",
      "60000/60000 [==============================] - 3s 55us/step - loss: 0.0833 - val_loss: 0.0829\n",
      "Epoch 66/100\n",
      "60000/60000 [==============================] - 3s 50us/step - loss: 0.0833 - val_loss: 0.0828\n",
      "Epoch 67/100\n",
      "60000/60000 [==============================] - 3s 54us/step - loss: 0.0832 - val_loss: 0.0827\n",
      "Epoch 68/100\n",
      "60000/60000 [==============================] - 3s 49us/step - loss: 0.0832 - val_loss: 0.0827\n",
      "Epoch 69/100\n",
      "60000/60000 [==============================] - 3s 55us/step - loss: 0.0831 - val_loss: 0.0826\n",
      "Epoch 70/100\n",
      "60000/60000 [==============================] - 3s 54us/step - loss: 0.0830 - val_loss: 0.0828\n",
      "Epoch 71/100\n",
      "60000/60000 [==============================] - 4s 59us/step - loss: 0.0830 - val_loss: 0.0828\n",
      "Epoch 72/100\n",
      "60000/60000 [==============================] - 5s 80us/step - loss: 0.0829 - val_loss: 0.0825\n",
      "Epoch 73/100\n",
      "60000/60000 [==============================] - 3s 57us/step - loss: 0.0829 - val_loss: 0.0825\n",
      "Epoch 74/100\n",
      "60000/60000 [==============================] - 4s 70us/step - loss: 0.0828 - val_loss: 0.0825\n",
      "Epoch 75/100\n",
      "60000/60000 [==============================] - 4s 70us/step - loss: 0.0828 - val_loss: 0.0827\n",
      "Epoch 76/100\n",
      "60000/60000 [==============================] - 3s 51us/step - loss: 0.0827 - val_loss: 0.0824\n",
      "Epoch 77/100\n"
     ]
    },
    {
     "name": "stdout",
     "output_type": "stream",
     "text": [
      "60000/60000 [==============================] - 3s 49us/step - loss: 0.0827 - val_loss: 0.0823\n",
      "Epoch 78/100\n",
      "60000/60000 [==============================] - 3s 46us/step - loss: 0.0826 - val_loss: 0.0822\n",
      "Epoch 79/100\n",
      "60000/60000 [==============================] - 3s 48us/step - loss: 0.0826 - val_loss: 0.0822\n",
      "Epoch 80/100\n",
      "60000/60000 [==============================] - 3s 45us/step - loss: 0.0825 - val_loss: 0.0823\n",
      "Epoch 81/100\n",
      "60000/60000 [==============================] - 3s 49us/step - loss: 0.0825 - val_loss: 0.0823\n",
      "Epoch 82/100\n",
      "60000/60000 [==============================] - 3s 46us/step - loss: 0.0825 - val_loss: 0.0823\n",
      "Epoch 83/100\n",
      "60000/60000 [==============================] - 3s 50us/step - loss: 0.0825 - val_loss: 0.0824\n",
      "Epoch 84/100\n",
      "60000/60000 [==============================] - 3s 47us/step - loss: 0.0824 - val_loss: 0.0819\n",
      "Epoch 85/100\n",
      "60000/60000 [==============================] - 3s 51us/step - loss: 0.0824 - val_loss: 0.0821\n",
      "Epoch 86/100\n",
      "60000/60000 [==============================] - 3s 46us/step - loss: 0.0824 - val_loss: 0.0821\n",
      "Epoch 87/100\n",
      "60000/60000 [==============================] - 3s 49us/step - loss: 0.0823 - val_loss: 0.0821\n",
      "Epoch 88/100\n",
      "60000/60000 [==============================] - 3s 47us/step - loss: 0.0823 - val_loss: 0.0820\n",
      "Epoch 89/100\n",
      "60000/60000 [==============================] - 3s 52us/step - loss: 0.0822 - val_loss: 0.0819\n",
      "Epoch 90/100\n",
      "60000/60000 [==============================] - 3s 45us/step - loss: 0.0822 - val_loss: 0.0821\n",
      "Epoch 91/100\n",
      "60000/60000 [==============================] - 3s 48us/step - loss: 0.0822 - val_loss: 0.0821\n",
      "Epoch 92/100\n",
      "60000/60000 [==============================] - 3s 45us/step - loss: 0.0822 - val_loss: 0.0819\n",
      "Epoch 93/100\n",
      "60000/60000 [==============================] - 3s 49us/step - loss: 0.0821 - val_loss: 0.0818\n",
      "Epoch 94/100\n",
      "60000/60000 [==============================] - 3s 46us/step - loss: 0.0821 - val_loss: 0.0819\n",
      "Epoch 95/100\n",
      "60000/60000 [==============================] - 3s 52us/step - loss: 0.0821 - val_loss: 0.0818\n",
      "Epoch 96/100\n",
      "60000/60000 [==============================] - 3s 46us/step - loss: 0.0821 - val_loss: 0.0818\n",
      "Epoch 97/100\n",
      "60000/60000 [==============================] - 3s 49us/step - loss: 0.0820 - val_loss: 0.0819\n",
      "Epoch 98/100\n",
      "60000/60000 [==============================] - 3s 51us/step - loss: 0.0820 - val_loss: 0.0816\n",
      "Epoch 99/100\n",
      "60000/60000 [==============================] - 3s 50us/step - loss: 0.0820 - val_loss: 0.0817\n",
      "Epoch 100/100\n",
      "60000/60000 [==============================] - 3s 45us/step - loss: 0.0820 - val_loss: 0.0820\n"
     ]
    },
    {
     "data": {
      "text/plain": [
       "<keras.callbacks.History at 0x26584a17d68>"
      ]
     },
     "execution_count": 10,
     "metadata": {},
     "output_type": "execute_result"
    }
   ],
   "source": [
    "autoencoder.fit(x_train, x_train,\n",
    "                nb_epoch=100,\n",
    "                batch_size=256,\n",
    "                shuffle=True,\n",
    "                validation_data=(x_test, x_test))"
   ]
  },
  {
   "cell_type": "code",
   "execution_count": 11,
   "metadata": {},
   "outputs": [],
   "source": [
    "import matplotlib.pyplot as plt\n",
    "\n",
    "# テスト画像を変換\n",
    "decoded_imgs = autoencoder.predict(x_test)"
   ]
  },
  {
   "cell_type": "code",
   "execution_count": 12,
   "metadata": {},
   "outputs": [
    {
     "data": {
      "image/png": "[encoded data removed]",
      "text/plain": [
       "<Figure size 1440x288 with 20 Axes>"
      ]
     },
     "metadata": {},
     "output_type": "display_data"
    }
   ],
   "source": [
    "# 何個表示するか\n",
    "# plt.subplot(行数, 列数, 何番目のプロットか)\n",
    "n = 10\n",
    "plt.figure(figsize=(20, 4))\n",
    "for i in range(n):\n",
    "    # オリジナルのテスト画像を表示\n",
    "    ax = plt.subplot(2, n, i+1)\n",
    "    plt.imshow(x_test[i].reshape(28, 28))\n",
    "    plt.gray()\n",
    "    ax.get_xaxis().set_visible(False)\n",
    "    ax.get_yaxis().set_visible(False)\n",
    "\n",
    "    # 変換された画像を表示\n",
    "    ax = plt.subplot(2, n, i+1+n)\n",
    "    plt.imshow(decoded_imgs[i].reshape(28, 28))\n",
    "    plt.gray()\n",
    "    ax.get_xaxis().set_visible(False)  #軸の値の表示を無効化\n",
    "    ax.get_yaxis().set_visible(False)  #軸の値の表示を無効化\n",
    "plt.show()"
   ]
  },
  {
   "cell_type": "code",
   "execution_count": null,
   "metadata": {},
   "outputs": [],
   "source": []
  }
 ],
 "metadata": {
  "kernelspec": {
   "display_name": "Python 3",
   "language": "python",
   "name": "python3"
  },
  "language_info": {
   "codemirror_mode": {
    "name": "ipython",
    "version": 3
   },
   "file_extension": ".py",
   "mimetype": "text/x-python",
   "name": "python",
   "nbconvert_exporter": "python",
   "pygments_lexer": "ipython3",
   "version": "3.6.5"
  }
 },
 "nbformat": 4,
 "nbformat_minor": 2
}
